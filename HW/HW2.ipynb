{
  "nbformat": 4,
  "nbformat_minor": 0,
  "metadata": {
    "colab": {
      "provenance": [],
      "authorship_tag": "ABX9TyPh5U7878pv5dM874WE2M+7",
      "include_colab_link": true
    },
    "kernelspec": {
      "name": "python3",
      "display_name": "Python 3"
    },
    "language_info": {
      "name": "python"
    }
  },
  "cells": [
    {
      "cell_type": "markdown",
      "metadata": {
        "id": "view-in-github",
        "colab_type": "text"
      },
      "source": [
        "<a href=\"https://colab.research.google.com/github/MasonFlynn/BME3053C-Fall-2025/blob/main/HW/HW2.ipynb\" target=\"_parent\"><img src=\"https://colab.research.google.com/assets/colab-badge.svg\" alt=\"Open In Colab\"/></a>"
      ]
    },
    {
      "cell_type": "code",
      "execution_count": 6,
      "metadata": {
        "colab": {
          "base_uri": "https://localhost:8080/"
        },
        "id": "Xbl8XmEwWwEU",
        "outputId": "fe4457f8-4702-43e7-e59a-dd7c98dee47f"
      },
      "outputs": [
        {
          "output_type": "stream",
          "name": "stdout",
          "text": [
            "[0.0, 0.321, 0.585, 0.057, 0.792, 1.0, 0.132, 0.642]\n"
          ]
        }
      ],
      "source": [
        "def normalize(bp_readings):\n",
        "  max_value = max(bp_readings)\n",
        "  min_value = min(bp_readings)\n",
        "  norm_bp_reading = []\n",
        "  for reading in bp_readings:\n",
        "    x = (reading - min_value) / (max_value - min_value)\n",
        "    norm_bp_reading.append(round(x, 3))\n",
        "  return norm_bp_reading\n",
        "\n",
        "bp_data = [120, 137, 151, 123, 162, 173, 127, 154]\n",
        "normalized_data = normalize(bp_data)\n",
        "print(normalized_data)"
      ]
    }
  ]
}